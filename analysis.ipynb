{
 "cells": [
  {
   "cell_type": "markdown",
   "metadata": {},
   "source": [
    "# Cardiovascular Disease Dataset Analysis\n",
    "Use `pip install` to install the required libraries (numpy, pandas, scipy, matplotlib, seaborn, jupyter)."
   ]
  },
  {
   "cell_type": "code",
   "execution_count": null,
   "metadata": {},
   "outputs": [],
   "source": [
    "# Imports\n",
    "import numpy as np\n",
    "import pandas as pd\n",
    "import scipy.stats as stats\n",
    "\n",
    "import matplotlib.pyplot as plt\n",
    "import seaborn as sns\n",
    "\n",
    "# Jupyter Notebook Setup\n",
    "from IPython.core.interactiveshell import InteractiveShell\n",
    "InteractiveShell.ast_node_interactivity = \"all\""
   ]
  },
  {
   "cell_type": "markdown",
   "metadata": {},
   "source": [
    "### Data Exploration"
   ]
  },
  {
   "cell_type": "code",
   "execution_count": null,
   "metadata": {},
   "outputs": [],
   "source": [
    "df = pd.read_csv('./data/heart_failure_clinical_records_dataset.csv')\n",
    "\n",
    "# Drop time column because it does not help with analysis\n",
    "df = df.drop(['time'], axis=1)\n",
    "df.head()\n",
    "df.count()"
   ]
  },
  {
   "cell_type": "markdown",
   "metadata": {},
   "source": [
    "### Conditional Probabilities"
   ]
  },
  {
   "cell_type": "code",
   "execution_count": null,
   "metadata": {},
   "outputs": [],
   "source": [
    "# P(a | b) = pd.crosstab(df.a, df.b, normalize='columns')\n",
    "# P(b | a) = pd.crosstab(df.a, df.b, normalize='index')\n",
    "cp_anaemia = pd.crosstab(df.anaemia, df.DEATH_EVENT, normalize='index')\n",
    "print(cp_anaemia)\n",
    "\n",
    "cp_diabetes = pd.crosstab(df.diabetes, df.DEATH_EVENT, normalize='index')\n",
    "print(cp_diabetes)\n",
    "\n",
    "cp_blood_pressure = pd.crosstab(df.high_blood_pressure, df.DEATH_EVENT, normalize='index')\n",
    "print(cp_blood_pressure)\n",
    "\n",
    "cp_sex = pd.crosstab(df.sex, df.DEATH_EVENT, normalize='index')\n",
    "print(cp_sex)\n",
    "\n",
    "cp_smoke = pd.crosstab(df.smoking, df.DEATH_EVENT, normalize='index')\n",
    "print(cp_smoke)"
   ]
  }
 ],
 "metadata": {
  "language_info": {
   "codemirror_mode": {
    "name": "ipython",
    "version": 3
   },
   "file_extension": ".py",
   "mimetype": "text/x-python",
   "name": "python",
   "nbconvert_exporter": "python",
   "pygments_lexer": "ipython3",
   "version": 3
  },
  "orig_nbformat": 2
 },
 "nbformat": 4,
 "nbformat_minor": 2
}