{
 "cells": [
  {
   "cell_type": "markdown",
   "metadata": {},
   "source": [
    "# Cardiovascular Disease Dataset Analysis\n",
    "Use `pip install` to install the required libraries (numpy, pandas, scipy, matplotlib, seaborn, jupyter)."
   ]
  },
  {
   "cell_type": "code",
   "execution_count": null,
   "metadata": {},
   "outputs": [],
   "source": [
    "# Imports\n",
    "import numpy as np\n",
    "import pandas as pd\n",
    "import scipy.stats as stats\n",
    "\n",
    "import matplotlib.pyplot as plt\n",
    "import seaborn as sns\n",
    "\n",
    "# Jupyter Notebook Setup\n",
    "from IPython.core.interactiveshell import InteractiveShell\n",
    "InteractiveShell.ast_node_interactivity = \"all\""
   ]
  },
  {
   "cell_type": "markdown",
   "metadata": {},
   "source": [
    "### Data Exploration"
   ]
  },
  {
   "cell_type": "code",
   "execution_count": null,
   "metadata": {},
   "outputs": [],
   "source": [
    "df = pd.read_csv('./data/heart_failure_clinical_records_dataset.csv')\n",
    "\n",
    "# Drop time column because it does not help with analysis\n",
    "df = df.drop(['time'], axis=1)\n",
    "df.head()\n",
    "df.count()"
   ]
  },
  {
   "cell_type": "markdown",
   "metadata": {},
   "source": [
    "### Conditional Probabilities"
   ]
  },
  {
   "cell_type": "code",
   "execution_count": null,
   "metadata": {},
   "outputs": [],
   "source": [
    "# P(a | b) = pd.crosstab(df.a, df.b, normalize='columns')\n",
    "# P(b | a) = pd.crosstab(df.a, df.b, normalize='index')\n",
    "cp_anaemia = pd.crosstab(df.anaemia, df.DEATH_EVENT, normalize='index')\n",
    "print(cp_anaemia)\n",
    "\n",
    "cp_diabetes = pd.crosstab(df.diabetes, df.DEATH_EVENT, normalize='index')\n",
    "print(cp_diabetes)\n",
    "\n",
    "cp_blood_pressure = pd.crosstab(df.high_blood_pressure, df.DEATH_EVENT, normalize='index')\n",
    "print(cp_blood_pressure)\n",
    "\n",
    "cp_sex = pd.crosstab(df.sex, df.DEATH_EVENT, normalize='index')\n",
    "print(cp_sex)\n",
    "\n",
    "cp_smoke = pd.crosstab(df.smoking, df.DEATH_EVENT, normalize='index')\n",
    "print(cp_smoke)"
   ]
  },
  {
   "cell_type": "markdown",
   "metadata": {},
   "source": [
    "### T-Tests"
   ]
  },
  {
   "cell_type": "code",
   "execution_count": 8,
   "metadata": {},
   "outputs": [],
   "source": [
    "# Helper Functions for T-Tests\n",
    "def calculate_S_squared(m0, m1, v0, v1, n0, n1):\n",
    "    s2 = ((n0 - 1) * v0) + ((n1 - 1) * v1)\n",
    "    s2 = s2 / (n0 + n1 -2)\n",
    "\n",
    "    return s2\n",
    "\n",
    "\n",
    "def calculate_test_statistic(m0, m1, v0, v1, n0, n1):\n",
    "    s2 = calculate_S_squared(m0, m1, v0, v1, n0, n1)\n",
    "    sp = np.sqrt(s2)\n",
    "    t0 = (m0 - m1) / (sp * np.sqrt((1 / n0) + (1 / n1)))\n",
    "\n",
    "    return t0\n",
    "\n",
    "\n",
    "def get_column_values(df_mean, df_var, df_count, key):\n",
    "    m0 = df_mean[key][0]\n",
    "    m1 = df_mean[key][1]\n",
    "    v0 = df_var[key][0]\n",
    "    v1 = df_var[key][1]\n",
    "    n0 = df_count[key][0]\n",
    "    n1 = df_count[key][1]\n",
    "\n",
    "    return m0, m1, v0, v1, n0, n1\n",
    "\n",
    "\n",
    "def calculate_all_test_statistics(df_mean, df_var, df_count):\n",
    "    cols = []\n",
    "    data = []\n",
    "    for c in df_mean.columns:\n",
    "        if c != 'DEATH_EVENT':\n",
    "            m0, m1, v0, v1, n0, n1 = get_column_values(df_mean, df_var, df_count, c)\n",
    "            t0 = calculate_test_statistic(m0, m1, v0, v1, n0, n1)\n",
    "            cols.append(c)\n",
    "            data.append(t0)\n",
    "    data = np.array(data).reshape(1, 6)\n",
    "    df_tstats = pd.DataFrame(data=data, columns=cols)\n",
    "    return df_tstats"
   ]
  },
  {
   "cell_type": "code",
   "execution_count": 9,
   "metadata": {},
   "outputs": [
    {
     "name": "stdout",
     "output_type": "stream",
     "text": [
      "                   age  creatinine_phosphokinase  ejection_fraction  \\\n",
      "DEATH_EVENT                                                           \n",
      "0            58.761906                540.054187           40.26601   \n",
      "1            65.215281                670.197917           33.46875   \n",
      "\n",
      "                 platelets  serum_creatinine  serum_sodium  \n",
      "DEATH_EVENT                                                 \n",
      "0            266657.489901          1.184877    137.216749  \n",
      "1            256381.044792          1.835833    135.375000  \n",
      "                    age  creatinine_phosphokinase  ejection_fraction  \\\n",
      "DEATH_EVENT                                                            \n",
      "0            113.164708              5.682138e+05         117.938789   \n",
      "1            174.624481              1.733385e+06         156.883224   \n",
      "\n",
      "                platelets  serum_creatinine  serum_sodium  \n",
      "DEATH_EVENT                                                \n",
      "0            9.512335e+09          0.427824     15.863678  \n",
      "1            9.707310e+09          2.156673     25.015789  \n",
      "             age  creatinine_phosphokinase  ejection_fraction  platelets  \\\n",
      "DEATH_EVENT                                                                \n",
      "0            203                       203                203        203   \n",
      "1             96                        96                 96         96   \n",
      "\n",
      "             serum_creatinine  serum_sodium  \n",
      "DEATH_EVENT                                  \n",
      "0                         203           203  \n",
      "1                          96            96  \n",
      "        age  creatinine_phosphokinase  ejection_fraction  platelets  \\\n",
      "0 -4.520614                 -1.083171           4.805628   0.847868   \n",
      "\n",
      "   serum_creatinine  serum_sodium  \n",
      "0         -5.306458      3.430063  \n"
     ]
    }
   ],
   "source": [
    "continuous_df = df[['age', 'creatinine_phosphokinase', 'ejection_fraction', 'platelets', 'serum_creatinine', 'serum_sodium', 'DEATH_EVENT']]\n",
    "groupby_death_mean = continuous_df.groupby(['DEATH_EVENT']).mean()\n",
    "groupby_death_var = continuous_df.groupby(['DEATH_EVENT']).var()\n",
    "groupby_death_count = continuous_df.groupby(['DEATH_EVENT']).count()\n",
    "print(groupby_death_mean)\n",
    "print(groupby_death_var)\n",
    "print(groupby_death_count)\n",
    "\n",
    "test_statistics = calculate_all_test_statistics(groupby_death_mean, groupby_death_var, groupby_death_count)\n",
    "print(test_statistics)"
   ]
  },
  {
   "cell_type": "code",
   "execution_count": null,
   "metadata": {},
   "outputs": [],
   "source": []
  }
 ],
 "metadata": {
  "kernelspec": {
   "display_name": "Python 3",
   "language": "python",
   "name": "python3"
  },
  "language_info": {
   "codemirror_mode": {
    "name": "ipython",
    "version": 3
   },
   "file_extension": ".py",
   "mimetype": "text/x-python",
   "name": "python",
   "nbconvert_exporter": "python",
   "pygments_lexer": "ipython3",
   "version": "3.7.4"
  }
 },
 "nbformat": 4,
 "nbformat_minor": 2
}
